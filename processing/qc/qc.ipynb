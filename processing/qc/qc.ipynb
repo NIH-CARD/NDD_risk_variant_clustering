{
 "cells": [
  {
   "cell_type": "code",
   "execution_count": null,
   "id": "25d8c64d-9bf4-45f5-bb3a-f471415d5f38",
   "metadata": {},
   "outputs": [],
   "source": [
    "import pandas as pd\n",
    "import subprocess\n",
    "import sys\n",
    "import numpy as np\n",
    "import os\n",
    "import shutil\n",
    "import joblib"
   ]
  },
  {
   "cell_type": "code",
   "execution_count": null,
   "id": "bf8b2db9-05e0-4b69-8b82-ee03efc1e2b7",
   "metadata": {},
   "outputs": [],
   "source": [
    "def shell_do(command, log=False, return_log=False):\n",
    "    print(f'Executing: {(\" \").join(command.split())}', file=sys.stderr)\n",
    "\n",
    "    res=subprocess.run(command.split(), stdout=subprocess.PIPE)\n",
    "\n",
    "    if log:\n",
    "        print(res.stdout.decode('utf-8'))\n",
    "    if return_log:\n",
    "        return(res.stdout.decode('utf-8'))"
   ]
  },
  {
   "cell_type": "code",
   "execution_count": null,
   "id": "883db640-cab8-49aa-a914-c49e5d706aa9",
   "metadata": {},
   "outputs": [],
   "source": [
    "def run_qc(path_dict, bash_path, env):\n",
    "    # write swarm file\n",
    "    with open(f'qc_pipeline.swarm', 'w') as f:\n",
    "        # loop through path_dict\n",
    "        for cohort in path_dict:\n",
    "            f.write(f\"bash {bash_path} -i {path_dict[cohort]['geno']} -c {cohort} -o {path_dict[cohort]['out']} -e {env}\\n\")\n",
    "        f.close()\n",
    "    \n",
    "    # queue swarm job\n",
    "    shell_do(f'swarm -f qc_pipeline.swarm -g 200 --time 10-00:00:00 --module python/3.7,plink/1.9,GCTA')"
   ]
  },
  {
   "cell_type": "code",
   "execution_count": null,
   "id": "6145796e-58b6-41a5-81f1-06115c5a62e6",
   "metadata": {},
   "outputs": [],
   "source": [
    "# project path\n",
    "wd = 'insert_path'\n",
    "\n",
    "# bash script path\n",
    "bash_path = f'{wd}/processing/qc/qc_pipeline.sh'\n",
    "\n",
    "# conda enviornment (need jupyter and GenoTools [https://github.com/dvitale199/GenoTools] installed)\n",
    "env = 'genotools'\n",
    "\n",
    "# path dict\n",
    "path_dict = {'JG':{}, 'ADNI':{}, 'FTD':{}, 'LBD':{}, 'ALS':{}, 'PD':{}, 'ADSP':{}}"
   ]
  },
  {
   "cell_type": "code",
   "execution_count": null,
   "id": "1f079b8f-4139-4a9b-9f61-f0685cff3ece",
   "metadata": {},
   "outputs": [],
   "source": [
    "# joint genotyping paths\n",
    "jg_data_dir = f'{wd}/ROSMAPMayoRNAseqMSBB/joint_genotyping'\n",
    "jg_geno_path = f'{jg_data_dir}/jointGenotypingROSMAPMayoRNAseqMSBB_pheno_new_ids'\n",
    "jg_out_path = f'{jg_data_dir}/qc/jointGenotypingROSMAPMayoRNAseqMSBB_pheno_qc'\n",
    "\n",
    "# ADNI paths\n",
    "adni_data_dir = f'{wd}/ADNI/genotypes'\n",
    "adni_geno_path = f'{adni_data_dir}/ADNI_all_pheno'\n",
    "adni_out_path = f'{adni_data_dir}/qc/ADNI_all_pheno_qc'\n",
    "\n",
    "# FTD paths\n",
    "ftd_data_dir = f'{wd}/FTD_LBD_ALS/ftd_genotypes'\n",
    "ftd_geno_path = f'{ftd_data_dir}/merged_FTD_age_filter'\n",
    "ftd_out_path = f'{ftd_data_dir}/qc/merged_FTD_qc'\n",
    "\n",
    "# LBD paths\n",
    "lbd_data_dir = f'{wd}/FTD_LBD_ALS/lbd_genotypes'\n",
    "lbd_geno_path = f'{lbd_data_dir}/merged_LBD_age_filter'\n",
    "lbd_out_path = f'{lbd_data_dir}/qc/merged_LBD_qc'\n",
    "\n",
    "# ALS paths\n",
    "als_data_dir = f'{wd}/FTD_LBD_ALS/als_genotypes'\n",
    "als_geno_path = f'{als_data_dir}/merged_ALS_age_filter'\n",
    "als_out_path = f'{als_data_dir}/qc/merged_ALS_qc'\n",
    "\n",
    "# AMP PD paths\n",
    "pd_geno_path = f'{wd}/AMP_PD/amp_pd_pheno'\n",
    "pd_out_path = f'{wd}/AMP_PD/qc/amp_pd_pheno_qc'\n",
    "\n",
    "#ADSP paths\n",
    "adsp_data_dir = f'{wd}/ADSP'\n",
    "adsp_geno_path = f'{adsp_data_dir}/adsp_formatted_normalized_pheno_new_ids'\n",
    "adsp_out_path = f'{adsp_data_dir}/qc/adsp_formatted_normalized_pheno_qc'"
   ]
  },
  {
   "cell_type": "code",
   "execution_count": null,
   "id": "64dafff8-acbe-4d30-93c8-6e533cdccdd6",
   "metadata": {},
   "outputs": [],
   "source": [
    "# adding to path dict\n",
    "path_dict['JG']['geno'] = jg_geno_path\n",
    "path_dict['JG']['out'] = jg_out_path\n",
    "path_dict['ADNI']['geno'] = adni_geno_path\n",
    "path_dict['ADNI']['out'] = adni_out_path\n",
    "path_dict['FTD']['geno'] = ftd_geno_path\n",
    "path_dict['FTD']['out'] = ftd_out_path\n",
    "path_dict['LBD']['geno'] = lbd_geno_path\n",
    "path_dict['LBD']['out'] = lbd_out_path\n",
    "path_dict['ALS']['geno'] = als_geno_path\n",
    "path_dict['ALS']['out'] = als_out_path\n",
    "path_dict['PD']['geno'] = pd_geno_path\n",
    "path_dict['PD']['out'] = pd_out_path\n",
    "path_dict['ADSP']['geno'] = adsp_geno_path\n",
    "path_dict['ADSP']['out'] = adsp_out_path"
   ]
  },
  {
   "cell_type": "code",
   "execution_count": null,
   "id": "b9187fce-4041-4e7a-a44c-4a8ddf71e4ea",
   "metadata": {},
   "outputs": [],
   "source": [
    "run_qc(path_dict, bash_path, env)"
   ]
  },
  {
   "cell_type": "code",
   "execution_count": null,
   "id": "192bb5fa-f309-4470-9d32-a67df83b1cfe",
   "metadata": {},
   "outputs": [],
   "source": [
    "# see number of cases/vairants after QC is complete\n",
    "for cohort in path_dict:\n",
    "    print(f'\\n{cohort}\\n')\n",
    "    fam = pd.read_csv(f\"{path_dict[cohort]['out']}.fam\", sep='\\s+', header=None)\n",
    "    fam.columns = ['FID','IID','PAT','MAT','SEX','PHENO']\n",
    "    print(fam.head())\n",
    "    print(fam.shape)\n",
    "    print(fam['PHENO'].value_counts())\n",
    "    \n",
    "    bim = pd.read_csv(f\"{path_dict[cohort]['out']}.bim\", sep='\\s+', header=None)\n",
    "    bim.columns = ['CHR','ID','LOC','BP','ALT','REF']\n",
    "    print(bim.head())\n",
    "    print(bim.shape)\n",
    "    print(bim['CHR'].value_counts())"
   ]
  },
  {
   "cell_type": "code",
   "execution_count": null,
   "id": "49a554bc-190c-4d37-8640-bbbe922cc2c0",
   "metadata": {},
   "outputs": [],
   "source": []
  }
 ],
 "metadata": {
  "kernelspec": {
   "display_name": "Python 3 (ipykernel)",
   "language": "python",
   "name": "python3"
  },
  "language_info": {
   "codemirror_mode": {
    "name": "ipython",
    "version": 3
   },
   "file_extension": ".py",
   "mimetype": "text/x-python",
   "name": "python",
   "nbconvert_exporter": "python",
   "pygments_lexer": "ipython3",
   "version": "3.9.7"
  }
 },
 "nbformat": 4,
 "nbformat_minor": 5
}
