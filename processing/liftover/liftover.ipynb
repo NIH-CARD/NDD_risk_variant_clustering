{
 "cells": [
  {
   "cell_type": "code",
   "execution_count": null,
   "id": "0942eeb4-1857-43d1-a9ab-f2b0f942be10",
   "metadata": {},
   "outputs": [],
   "source": [
    "import pandas as pd\n",
    "import subprocess\n",
    "import sys\n",
    "import numpy as np\n",
    "import os\n",
    "import shutil\n",
    "import joblib"
   ]
  },
  {
   "cell_type": "code",
   "execution_count": null,
   "id": "f9bdb3ea-2541-43dd-82ca-641a77d65e6a",
   "metadata": {},
   "outputs": [],
   "source": [
    "def shell_do(command, log=False, return_log=False):\n",
    "    print(f'Executing: {(\" \").join(command.split())}', file=sys.stderr)\n",
    "\n",
    "    res=subprocess.run(command.split(), stdout=subprocess.PIPE)\n",
    "\n",
    "    if log:\n",
    "        print(res.stdout.decode('utf-8'))\n",
    "    if return_log:\n",
    "        return(res.stdout.decode('utf-8'))"
   ]
  },
  {
   "cell_type": "code",
   "execution_count": null,
   "id": "e286a055-a105-4009-8dc0-da74207a085d",
   "metadata": {},
   "outputs": [],
   "source": [
    "def reformat_bim(bim_path):\n",
    "    # read bim file, name columns\n",
    "    bim = pd.read_csv(bim_path, sep='\\s+', header=None)\n",
    "    bim.columns = ['CHR','ID','LOC','BP','ALT','REF']\n",
    "    print(bim.head())\n",
    "    print(bim.shape)\n",
    "    \n",
    "    # change to chr:basepair:ref:alt format and write to file\n",
    "    bim['ID'] = bim['CHR'].astype(str) + ':' + bim['BP'].astype(str) + ':' + bim['REF'] + ':' + bim['ALT']\n",
    "    print(bim.head())\n",
    "    bim.to_csv(bim_path, sep='\\t', index=None, header=None)"
   ]
  },
  {
   "cell_type": "code",
   "execution_count": null,
   "id": "cef27745-7806-423e-b6be-cc89fb686527",
   "metadata": {},
   "outputs": [],
   "source": [
    "def liftover_genotypes(path_dict, bash_path):\n",
    "    # write swarm file\n",
    "    with open('liftover.swarm', 'w') as f:\n",
    "        for cohort in path_dict:\n",
    "            f.write(f\"bash {bash_path} -i {path_dict[cohort]['geno']} -d {path_dict[cohort]['out_dir']} -o {path_dict[cohort]['out']}\\n\")\n",
    "        f.close()\n",
    "    \n",
    "    # queue swarm job\n",
    "    shell_do('swarm -f liftover.swarm -g 500 -t 32 --partition largemem --time 10-00:00:00 --module python/3.7,plink/1.9')"
   ]
  },
  {
   "cell_type": "code",
   "execution_count": null,
   "id": "b38bca4f-32b9-4d06-ac33-607b20bd5ab7",
   "metadata": {},
   "outputs": [],
   "source": [
    "def liftover_stats(path_dict, bash_path):\n",
    "    # need to set up per-user R library download bigsnpr\n",
    "    with open('liftover_stats.swarm', 'w') as f:\n",
    "        for cohort in path_dict:\n",
    "            f.write(f\"bash {bash_path} -i {path_dict[cohort]['stats_path']} -c {path_dict[cohort]['chrom']} -p {path_dict[cohort]['pos']} -o {path_dict[cohort]['out_path']}\\n\")\n",
    "        f.close()\n",
    "    \n",
    "    shell_do('swarm -f liftover_stats.swarm -g 50 --module R')"
   ]
  },
  {
   "cell_type": "code",
   "execution_count": null,
   "id": "8ffb7b76-1f0c-49ac-badb-4a3caa13fedb",
   "metadata": {},
   "outputs": [],
   "source": [
    "# project path\n",
    "wd = f'insert_path'\n",
    "\n",
    "# liftover bash path\n",
    "liftover_bash_path = f'{wd}/processing/liftover/liftover.sh'\n",
    "\n",
    "# liftover stats bash path\n",
    "liftover_stats_bash_path = f'{wd}/processing/liftover/liftover_stats.sh'\n",
    "\n",
    "# liftover path dict\n",
    "liftover_path_dict = {'JG':{}}\n",
    "\n",
    "# liftover stats path dict\n",
    "liftover_stats_path_dict = {'AD':{}, 'PD':{}, 'ALS':{}, 'FTD':{}}"
   ]
  },
  {
   "cell_type": "code",
   "execution_count": null,
   "id": "2ab0193e-c4d4-43f7-9f75-04a49c7811b2",
   "metadata": {},
   "outputs": [],
   "source": [
    "# jg paths\n",
    "jg_geno_path = f'{wd}/ROSMAPMayoRNAseqMSBB/joint_genotyping/qc/jointGenotypingROSMAPMayoRNAseqMSBB_pheno_qc'\n",
    "jg_out_dir = f'{wd}/ROSMAPMayoRNAseqMSBB/joint_genotyping/lifted'\n",
    "os.makedirs(jg_out_dir, exist_ok=True)\n",
    "jg_out_path = f'{jg_out_dir}/jointGenotypingROSMAPMayoRNAseqMSBB_pheno_qc_lifted'"
   ]
  },
  {
   "cell_type": "code",
   "execution_count": null,
   "id": "53ecb976-7ebf-49ed-93c5-0c78b0e3a5f6",
   "metadata": {},
   "outputs": [],
   "source": [
    "# adding to path dict\n",
    "liftover_path_dict['JG']['geno'] = jg_geno_path\n",
    "liftover_path_dict['JG']['out_dir'] = jg_out_dir\n",
    "liftover_path_dict['JG']['out'] = jg_out_path"
   ]
  },
  {
   "cell_type": "code",
   "execution_count": null,
   "id": "1d1ce953-24e3-4a5b-bb5c-07760404fc8c",
   "metadata": {},
   "outputs": [],
   "source": [
    "liftover_genotypes(liftover_path_dict, liftover_bash_path)"
   ]
  },
  {
   "cell_type": "code",
   "execution_count": null,
   "id": "93af7542-60dc-4c5e-9766-718673633a04",
   "metadata": {},
   "outputs": [],
   "source": [
    "# reformat bim files once lifted\n",
    "reformat_bim(f'{jg_out_path}.bim')"
   ]
  },
  {
   "cell_type": "code",
   "execution_count": null,
   "id": "1b7b0143-0099-4b3c-b1e7-1a9abd6b062c",
   "metadata": {},
   "outputs": [],
   "source": [
    "# path to summary stats liftover script\n",
    "liftover_path = f'{wd}/processing/liftover/liftover_summary_stats.R'"
   ]
  },
  {
   "cell_type": "code",
   "execution_count": null,
   "id": "98305c5d-834f-4caa-8cea-2f68954fd6bc",
   "metadata": {},
   "outputs": [],
   "source": [
    "# read in PD stats\n",
    "pd_stats_path_hg19 = 'insert_pd_stats_path'\n",
    "pd_stats = pd.read_csv(pd_stats_path_hg19, sep='\\s+')\n",
    "\n",
    "# create chr and pos columns from SNP\n",
    "pd_stats['chr'] = pd_stats['SNP'].str.split(':').str[0]\n",
    "pd_stats['chr'] = pd_stats['chr'].str.split('r').str[1]\n",
    "pd_stats['pos'] = pd_stats['SNP'].str.split(':').str[1]\n",
    "\n",
    "# wirte to file\n",
    "pd_stats_path = f'{wd}/processing/sum_stats/nallsEtAl2019.txt'\n",
    "pd_stats.to_csv(pd_stats_path, sep='\\t', index=None)"
   ]
  },
  {
   "cell_type": "code",
   "execution_count": null,
   "id": "049103f9-b79c-4f22-a531-0a303826449c",
   "metadata": {},
   "outputs": [],
   "source": [
    "# Schwartzentruber weights (AD summary stats)\n",
    "ad_stats_path = 'insert_ad_stats_path'\n",
    "ad_stats_out_path = f'{wd}/processing/sum_stats/Schwartzentruber_2021_lifted_hg38.txt'\n",
    "# name of chromosome/position columns\n",
    "ad_chrom = 'chromosome'\n",
    "ad_pos = 'base_pair_location'\n",
    "\n",
    "# PD summary stats\n",
    "pd_stats_out_path = f'{wd}/processing/sum_stats/nallsEtAl2019_lifted_hg38.txt'\n",
    "# name of chromosome/position columns\n",
    "pd_chrom = 'chr'\n",
    "pd_pos = 'pos'\n",
    "\n",
    "# ALS summary stats\n",
    "als_stats_path = 'insert_als_stats_path'\n",
    "als_stats_out_path = f'{wd}/processing/sum_stats/alsMetaSummaryStats_lifted_hg38.txt'\n",
    "# name of chromosome/position columns\n",
    "als_chrom = 'CHR'\n",
    "als_pos = 'BP'\n",
    "\n",
    "# FTD summary stats\n",
    "ftd_stats_path = 'insert_ftd_stats_path'\n",
    "ftd_stats_out_path = f'{wd}/processing/sum_stats/Meta-analysis.Matched.AllResults_lifted_hg38.txt'\n",
    "# name of chromosome/position columns\n",
    "ftd_chrom = 'Chr'\n",
    "ftd_pos = 'Bp'"
   ]
  },
  {
   "cell_type": "code",
   "execution_count": null,
   "id": "bf48cac9-342a-4e55-9ad3-d98248f20c82",
   "metadata": {},
   "outputs": [],
   "source": [
    "liftover_stats_path_dict['AD']['stats_path'] = ad_stats_path\n",
    "liftover_stats_path_dict['AD']['out_path'] = ad_stats_out_path\n",
    "liftover_stats_path_dict['AD']['chrom'] = ad_chrom\n",
    "liftover_stats_path_dict['AD']['pos'] = ad_pos\n",
    "liftover_stats_path_dict['PD']['stats_path'] = pd_stats_path\n",
    "liftover_stats_path_dict['PD']['out_path'] = pd_stats_out_path\n",
    "liftover_stats_path_dict['PD']['chrom'] = pd_chrom\n",
    "liftover_stats_path_dict['PD']['pos'] = pd_pos\n",
    "liftover_stats_path_dict['ALS']['stats_path'] = als_stats_path\n",
    "liftover_stats_path_dict['ALS']['out_path'] = als_stats_out_path\n",
    "liftover_stats_path_dict['ALS']['chrom'] = als_chrom\n",
    "liftover_stats_path_dict['ALS']['pos'] = als_pos\n",
    "liftover_stats_path_dict['FTD']['stats_path'] = ftd_stats_path\n",
    "liftover_stats_path_dict['FTD']['out_path'] = ftd_stats_out_path\n",
    "liftover_stats_path_dict['FTD']['chrom'] = ftd_chrom\n",
    "liftover_stats_path_dict['FTD']['pos'] = ftd_pos"
   ]
  },
  {
   "cell_type": "code",
   "execution_count": null,
   "id": "b92eb171-851b-47b3-a758-369123dfbce0",
   "metadata": {},
   "outputs": [],
   "source": [
    "liftover_stats(liftover_stats_path_dict, liftover_stats_bash_path)"
   ]
  },
  {
   "cell_type": "code",
   "execution_count": null,
   "id": "78bfd106-5846-486a-9d77-53e6dd7a2878",
   "metadata": {},
   "outputs": [],
   "source": []
  }
 ],
 "metadata": {
  "kernelspec": {
   "display_name": "Python 3 (ipykernel)",
   "language": "python",
   "name": "python3"
  },
  "language_info": {
   "codemirror_mode": {
    "name": "ipython",
    "version": 3
   },
   "file_extension": ".py",
   "mimetype": "text/x-python",
   "name": "python",
   "nbconvert_exporter": "python",
   "pygments_lexer": "ipython3",
   "version": "3.9.7"
  }
 },
 "nbformat": 4,
 "nbformat_minor": 5
}
